{
 "cells": [
  {
   "cell_type": "code",
   "execution_count": 1,
   "metadata": {},
   "outputs": [
    {
     "name": "stderr",
     "output_type": "stream",
     "text": [
      "/Users/maxbelitsky/miniconda3/envs/dl2/lib/python3.10/site-packages/tqdm/auto.py:21: TqdmWarning: IProgress not found. Please update jupyter and ipywidgets. See https://ipywidgets.readthedocs.io/en/stable/user_install.html\n",
      "  from .autonotebook import tqdm as notebook_tqdm\n"
     ]
    }
   ],
   "source": [
    "from dataclasses import dataclass, field\n",
    "from typing import Optional\n",
    "\n",
    "import logging\n",
    "import sys\n",
    "import torch\n",
    "from copy import deepcopy\n",
    "\n",
    "from torch.utils.data import DataLoader, Dataset\n",
    "from transformers.trainer_utils import EvalLoopOutput, EvalPrediction\n",
    "\n",
    "import datasets\n",
    "import evaluate\n",
    "import transformers\n",
    "from datasets import load_dataset\n",
    "from peft import LoraConfig, TaskType, get_peft_model, PeftModel\n",
    "from transformers import (\n",
    "    AutoConfig,\n",
    "    AutoModelForSeq2SeqLM,\n",
    "    AutoTokenizer,\n",
    "    DataCollatorForSeq2Seq,\n",
    "    Seq2SeqTrainingArguments,\n",
    "    set_seed,\n",
    ")\n",
    "\n",
    "from qa_lib import (\n",
    "    ModelArguments,\n",
    "    DataTrainingArguments,\n",
    "    QATrainer,\n",
    "    adjust_training_args,\n",
    ")\n",
    "from models import (\n",
    "    T5ForConditionalGeneration,\n",
    "    DeployT5ForConditionalGeneration,\n",
    ")\n",
    "from util import (\n",
    "    AdditionalArguments,\n",
    "    update_autoconfig,\n",
    ")\n",
    "\n",
    "# from sequence_types.CheckSequenceTypeModule import CheckSequenceTypeModule\n",
    "# from sequence_types.HiddenStatesSaver import HiddenStatesSaver\n",
    "\n",
    "logging.basicConfig(\n",
    "        format=\"%(asctime)s - %(levelname)s - %(name)s - %(message)s\",\n",
    "        datefmt=\"%m/%d/%Y %H:%M:%S\",\n",
    "        handlers=[logging.StreamHandler(sys.stdout)],\n",
    "    )\n",
    "logger = logging.getLogger(__name__)\n",
    "\n",
    "question_answering_column_name_mapping = {\n",
    "    \"squad\": (\"question\", \"context\", \"answer\"),\n",
    "    \"squad_v2\": (\"question\", \"context\", \"answer\"),\n",
    "    \"narrativeqa\": (\"question\", \"document\", \"answer\")\n",
    "}\n",
    "\n",
    "%load_ext autoreload\n",
    "%autoreload 2"
   ]
  },
  {
   "cell_type": "code",
   "execution_count": 2,
   "metadata": {},
   "outputs": [],
   "source": [
    "additional_args = AdditionalArguments(\n",
    "    use_synchronize=False,\n",
    "    output_hidden_states_decoder=True,\n",
    "    use_early_exit=True,\n",
    ")\n",
    "model_args = ModelArguments(\n",
    "    model_name_or_path=\"./checkpoints/SQuAD/squad_t5_large_weighted_ce\",\n",
    "    tokenizer_name=\"google-t5/t5-large\",\n",
    ")\n",
    "training_args = Seq2SeqTrainingArguments(\n",
    "    output_dir=\"./save/squad_t5_large/\",\n",
    "    do_predict=False,\n",
    "    do_train=False,\n",
    "    do_eval=True,\n",
    "    per_device_eval_batch_size=1,\n",
    "    per_device_train_batch_size=1,\n",
    ")\n",
    "data_args = DataTrainingArguments(\n",
    "    dataset_name=\"squad\",\n",
    "    context_column=\"context\",\n",
    "    question_column=\"question\",\n",
    "    answer_column=\"answers\"\n",
    ")\n"
   ]
  },
  {
   "cell_type": "code",
   "execution_count": 3,
   "metadata": {},
   "outputs": [
    {
     "name": "stderr",
     "output_type": "stream",
     "text": [
      "/Users/maxbelitsky/miniconda3/envs/dl2/lib/python3.10/site-packages/huggingface_hub/file_download.py:1132: FutureWarning: `resume_download` is deprecated and will be removed in version 1.0.0. Downloads always resume when possible. If you want to force a new download, use `force_download=True`.\n",
      "  warnings.warn(\n"
     ]
    }
   ],
   "source": [
    "# Set the seed\n",
    "set_seed(training_args.seed)\n",
    "\n",
    "# Load the data\n",
    "raw_datasets = load_dataset(\n",
    "    data_args.dataset_name\n",
    ")\n",
    "\n",
    "# Load the model\n",
    "if not additional_args.use_lora or training_args.do_train:\n",
    "        config_name = model_args.config_name if model_args.config_name else model_args.model_name_or_path\n",
    "        tokenizer_name = model_args.tokenizer_name if model_args.tokenizer_name else model_args.model_name_or_path\n",
    "        model_name = model_args.model_name_or_path\n",
    "else:\n",
    "    lora_config = LoraConfig.from_pretrained(model_args.model_name_or_path)\n",
    "    config_name = tokenizer_name = model_name = lora_config.base_model_name_or_path\n",
    "\n",
    "if data_args.dataset_name in [\"squad\", \"squad_v2\", \"narrativeqa\"]:\n",
    "    model_cls = T5ForConditionalGeneration if not additional_args.deploy_scenario else DeployT5ForConditionalGeneration\n",
    "\n",
    "config = AutoConfig.from_pretrained(\n",
    "    config_name,\n",
    ")\n",
    "config = update_autoconfig(\n",
    "    config,\n",
    "    additional_args,\n",
    "    max_answer_length=data_args.max_answer_length\n",
    ")\n",
    "tokenizer = AutoTokenizer.from_pretrained(\n",
    "    tokenizer_name,\n",
    "    use_fast=model_args.use_fast_tokenizer,\n",
    ")\n",
    "model = model_cls.from_pretrained(\n",
    "    model_name,\n",
    "    from_tf=bool(\".ckpt\" in model_args.model_name_or_path),\n",
    "    config=config,\n",
    ")\n",
    "\n",
    "# Save hidden states\n",
    "# if model_args.save_hidden_states:\n",
    "\n",
    "#     hidden_states_saver = HiddenStatesSaver()\n",
    "\n",
    "#     model.encoder.embed_tokens = SentenceSaver(model.encoder.embed_tokens)\n",
    "#     model.decoder.embed_tokens = SentenceSaver(model.decoder.embed_tokens)\n",
    "\n",
    "#     plot_monotonicity = PlotMonotonicity(\n",
    "#         tokenizer,\n",
    "#         model.encoder.embed_tokens,\n",
    "#         model.decoder.embed_tokens,\n",
    "#         model_args.model_name_or_path\n",
    "#     )\n",
    "\n",
    "#     for module_idx, module in enumerate(model.decoder.block):\n",
    "#         model.decoder.block[module_idx] = CheckMonotonicityModule(\n",
    "#             module,\n",
    "#             module_idx,\n",
    "#             model.lm_head,\n",
    "#             model.decoder.final_layer_norm,\n",
    "#             plot_monotonicity,\n",
    "#         )\n",
    "\n",
    "# Load the model in LoRA\n",
    "if additional_args.use_lora:\n",
    "    if training_args.do_train:\n",
    "        lora_config = LoraConfig(\n",
    "            task_type=TaskType.SEQ_2_SEQ_LM, r=additional_args.lora_rank, \n",
    "            lora_alpha=additional_args.lora_alpha, lora_dropout=additional_args.lora_dropout,\n",
    "            target_modules=additional_args.lora_target_modules,\n",
    "        )\n",
    "        model = get_peft_model(model, lora_config)\n",
    "        model.print_trainable_parameters()\n",
    "    else:\n",
    "        model = PeftModel.from_pretrained(model, model_args.model_name_or_path, config=lora_config)\n",
    "        model = model.merge_and_unload()\n",
    "\n",
    "\n",
    "# Adjust the embedding size\n",
    "embedding_size = model.get_input_embeddings().weight.shape[0]\n",
    "if len(tokenizer) > embedding_size:\n",
    "    model.resize_token_embeddings(len(tokenizer))\n",
    "\n",
    "\n",
    "# Preprocessing the datasets.\n",
    "# We need to tokenize inputs and targets.\n",
    "if training_args.do_train:\n",
    "    column_names = raw_datasets[\"train\"].column_names\n",
    "elif training_args.do_eval:\n",
    "    column_names = raw_datasets[\"validation\"].column_names\n",
    "elif training_args.do_predict:\n",
    "    column_names = raw_datasets[\"test\"].column_names\n",
    "\n",
    "# # Get the column names for input/target.\n",
    "dataset_columns = question_answering_column_name_mapping.get(data_args.dataset_name, None)\n",
    "if data_args.question_column is None:\n",
    "    question_column = dataset_columns[0] if dataset_columns is not None else column_names[0]\n",
    "else:\n",
    "    question_column = data_args.question_column\n",
    "\n",
    "if data_args.context_column is None:\n",
    "    context_column = dataset_columns[1] if dataset_columns is not None else column_names[1]\n",
    "else:\n",
    "    context_column = data_args.context_column\n",
    "\n",
    "if data_args.answer_column is None:\n",
    "    answer_column = dataset_columns[2] if dataset_columns is not None else column_names[2]\n",
    "else:\n",
    "    answer_column = data_args.answer_column\n",
    "\n",
    "\n",
    "# Temporarily set max_answer_length for training.\n",
    "max_answer_length = data_args.max_answer_length\n",
    "padding = \"max_length\" if data_args.pad_to_max_length else False\n",
    "max_seq_length = min(data_args.max_seq_length, tokenizer.model_max_length)\n",
    "\n",
    "\n",
    "# Preprocess the data\n",
    "def preprocess_squad_batch(\n",
    "    examples,\n",
    "    question_column: str,\n",
    "    context_column: str,\n",
    "    answer_column: str,\n",
    "):\n",
    "    questions = examples[question_column]\n",
    "    contexts = examples[context_column]\n",
    "    answers = examples[answer_column]\n",
    "\n",
    "    def generate_input(_question, _context):\n",
    "        return \" \".join([\"question:\", _question.lstrip(), \"context:\", _context.lstrip()])\n",
    "\n",
    "    inputs = [generate_input(question, context) for question, context in zip(questions, contexts)]\n",
    "    targets = [answer[\"text\"][0] if len(answer[\"text\"]) > 0 else \"\" for answer in answers]\n",
    "    return inputs, targets\n",
    "\n",
    "\n",
    "def preprocess_function(examples):\n",
    "    if \"squad\" in data_args.dataset_name:\n",
    "        inputs, targets = preprocess_squad_batch(examples, question_column, context_column, answer_column)\n",
    "    # elif data_args.dataset_name == \"narrativeqa\":\n",
    "    #     inputs, targets = preprocess_narrativeqa_batch(examples, question_column, context_column, answer_column)\n",
    "        \n",
    "    model_inputs = tokenizer(inputs, max_length=max_seq_length, padding=padding, truncation=True)\n",
    "    # Tokenize targets with text_target=...\n",
    "    labels = tokenizer(text_target=targets, max_length=max_answer_length, padding=padding, truncation=True)\n",
    "\n",
    "    # If we are padding here, replace all tokenizer.pad_token_id in the labels by -100 when we want to ignore\n",
    "    # padding in the loss.\n",
    "    if padding == \"max_length\" and data_args.ignore_pad_token_for_loss:\n",
    "        labels[\"input_ids\"] = [\n",
    "            [(l if l != tokenizer.pad_token_id else -100) for l in label] for label in labels[\"input_ids\"]\n",
    "        ]\n",
    "\n",
    "    model_inputs[\"labels\"] = labels[\"input_ids\"]\n",
    "    return model_inputs\n",
    "\n",
    "\n",
    "# Validation preprocessing\n",
    "def preprocess_validation_function(examples):            \n",
    "    if \"squad\" in data_args.dataset_name:\n",
    "        inputs, targets = preprocess_squad_batch(examples, question_column, context_column, answer_column)\n",
    "        model_inputs = tokenizer(inputs, max_length=max_seq_length, padding=padding, truncation=True,\n",
    "                                    return_overflowing_tokens=True, return_offsets_mapping=True,)\n",
    "\n",
    "    # elif data_args.dataset_name == \"narrativeqa\":\n",
    "    #     inputs, targets = preprocess_narrativeqa_batch(examples, question_column, context_column, answer_column)\n",
    "    #     model_inputs = tokenizer(inputs, max_length=max_seq_length, padding=padding, truncation=True)\n",
    "\n",
    "    # Tokenize targets with the `text_target` keyword argument\n",
    "    labels = tokenizer(text_target=targets, max_length=max_answer_length, padding=padding, truncation=True)\n",
    "\n",
    "    # If we are padding here, replace all tokenizer.pad_token_id in the labels by -100 when we want to ignore\n",
    "    # padding in the loss.\n",
    "    if padding == \"max_length\" and data_args.ignore_pad_token_for_loss:\n",
    "        labels[\"input_ids\"] = [\n",
    "            [(l if l != tokenizer.pad_token_id else -100) for l in label] for label in labels[\"input_ids\"]\n",
    "        ]\n",
    "    \n",
    "    if \"squad\" in data_args.dataset_name:\n",
    "        # Since one example might give us several features if it has a long context, we need a map from a feature to\n",
    "        # its corresponding example. This key gives us just that.\n",
    "        sample_mapping = model_inputs.pop(\"overflow_to_sample_mapping\")\n",
    "\n",
    "        # For evaluation, we will need to convert our predictions to substrings of the context, so we keep the\n",
    "        # corresponding example_id and we will store the offset mappings.\n",
    "        model_inputs[\"example_id\"] = []\n",
    "        # Augment the overflowing tokens to the labels\n",
    "        labels_out = []\n",
    "        for i in range(len(model_inputs[\"input_ids\"])):\n",
    "            # One example can give several spans, this is the index of the example containing this span of text.\n",
    "            sample_index = sample_mapping[i]\n",
    "            model_inputs[\"example_id\"].append(examples[\"id\"][sample_index])\n",
    "            labels_out.append(labels[\"input_ids\"][sample_index])\n",
    "\n",
    "        model_inputs[\"labels\"] = labels_out\n",
    "        \n",
    "    elif data_args.dataset_name == \"narrativeqa\":\n",
    "        model_inputs[\"labels\"] = labels[\"input_ids\"]\n",
    "        \n",
    "    return model_inputs\n",
    "\n",
    "\n",
    "if training_args.do_train:\n",
    "    if \"train\" not in raw_datasets:\n",
    "        raise ValueError(\"--do_train requires a train dataset\")\n",
    "    train_dataset = raw_datasets[\"train\"]\n",
    "    if data_args.max_train_samples is not None:\n",
    "        # We will select sample from whole data if agument is specified\n",
    "        max_train_samples = min(len(train_dataset), data_args.max_train_samples)\n",
    "        train_dataset = train_dataset.select(range(max_train_samples))\n",
    "    # Create train feature from dataset\n",
    "    with training_args.main_process_first(desc=\"train dataset map pre-processing\"):\n",
    "        train_dataset = train_dataset.map(\n",
    "            preprocess_function,\n",
    "            batched=True,\n",
    "            num_proc=data_args.preprocessing_num_workers,\n",
    "            remove_columns=column_names,\n",
    "            load_from_cache_file=not data_args.overwrite_cache,\n",
    "            desc=\"Running tokenizer on train dataset\",\n",
    "        )\n",
    "    if data_args.max_train_samples is not None:\n",
    "        # Number of samples might increase during Feature Creation, We select only specified max samples\n",
    "        max_train_samples = min(len(train_dataset), data_args.max_train_samples)\n",
    "        train_dataset = train_dataset.select(range(max_train_samples))\n",
    "\n",
    "if training_args.do_eval:\n",
    "    if \"validation\" not in raw_datasets:\n",
    "        raise ValueError(\"--do_eval requires a validation dataset\")\n",
    "    eval_examples = raw_datasets[\"validation\"]\n",
    "    if data_args.max_eval_samples is not None:\n",
    "        # We will select sample from whole data\n",
    "        max_eval_samples = min(len(eval_examples), data_args.max_eval_samples)\n",
    "        eval_examples = eval_examples.select(range(max_eval_samples))\n",
    "    # Validation Feature Creation\n",
    "    with training_args.main_process_first(desc=\"validation dataset map pre-processing\"):\n",
    "        eval_dataset = eval_examples.map(\n",
    "            preprocess_validation_function,\n",
    "            batched=True,\n",
    "            num_proc=data_args.preprocessing_num_workers,\n",
    "            remove_columns=column_names,\n",
    "            load_from_cache_file=not data_args.overwrite_cache,\n",
    "            desc=\"Running tokenizer on validation dataset\",\n",
    "        )\n",
    "    if data_args.max_eval_samples is not None:\n",
    "        # During Feature creation dataset samples might increase, we will select required samples again\n",
    "        max_eval_samples = min(len(eval_dataset), data_args.max_eval_samples)\n",
    "        eval_dataset = eval_dataset.select(range(max_eval_samples))\n",
    "\n",
    "if training_args.do_predict:\n",
    "    if \"test\" not in raw_datasets:\n",
    "        raise ValueError(\"--do_predict requires a test dataset\")\n",
    "    predict_examples = raw_datasets[\"test\"]\n",
    "    if data_args.max_predict_samples is not None:\n",
    "        # We will select sample from whole data\n",
    "        predict_examples = predict_examples.select(range(data_args.max_predict_samples))\n",
    "    # Predict Feature Creation\n",
    "    with training_args.main_process_first(desc=\"prediction dataset map pre-processing\"):\n",
    "        predict_dataset = predict_examples.map(\n",
    "            preprocess_validation_function,\n",
    "            batched=True,\n",
    "            num_proc=data_args.preprocessing_num_workers,\n",
    "            remove_columns=column_names,\n",
    "            load_from_cache_file=not data_args.overwrite_cache,\n",
    "            desc=\"Running tokenizer on prediction dataset\",\n",
    "        )\n",
    "    if data_args.max_predict_samples is not None:\n",
    "        # During Feature creation dataset samples might increase, we will select required samples again\n",
    "        max_predict_samples = min(len(predict_dataset), data_args.max_predict_samples)\n",
    "        predict_dataset = predict_dataset.select(range(max_predict_samples))\n",
    "\n",
    "# # Data collator\n",
    "label_pad_token_id = -100 if data_args.ignore_pad_token_for_loss else tokenizer.pad_token_id\n",
    "data_collator = DataCollatorForSeq2Seq(\n",
    "    tokenizer,\n",
    "    model=model,\n",
    "    label_pad_token_id=label_pad_token_id,\n",
    "    pad_to_multiple_of=8 if training_args.fp16 else None,\n",
    ")\n",
    "\n",
    "# Metric\n",
    "metric = evaluate.load(\"squad_v2\" if data_args.version_2_with_negative else \"squad\")\n",
    "        \n",
    "def compute_metrics(p, prefix: str = None):\n",
    "    metric_dict = metric.compute(predictions=p.predictions, references=p.label_ids)\n",
    "    metric_keys = deepcopy(list(metric_dict.keys()))\n",
    "    for key in metric_keys:\n",
    "        if prefix is not None and prefix not in key:\n",
    "            metric_dict['{}_{}'.format(prefix, key)] = metric_dict.pop(key)\n",
    "    return metric_dict\n",
    "\n",
    "# Post-processing\n",
    "def post_processing_function(\n",
    "    examples: datasets.Dataset, features: datasets.Dataset, outputs: EvalLoopOutput, stage=\"eval\"\n",
    "):\n",
    "    # Decode the predicted tokens.\n",
    "    preds = outputs.predictions\n",
    "    if isinstance(preds, tuple):\n",
    "        preds = preds[0]\n",
    "    decoded_preds = tokenizer.batch_decode(preds, skip_special_tokens=True)\n",
    "\n",
    "    # Build a map example to its corresponding features.\n",
    "    example_id_to_index = {k: i for i, k in enumerate(examples[\"id\"])}\n",
    "    feature_per_example = {example_id_to_index[feature[\"example_id\"]]: i for i, feature in enumerate(features)}\n",
    "    predictions = {}\n",
    "\n",
    "    task_name = \"squad_v2\" if data_args.version_2_with_negative else \"squad\"\n",
    "\n",
    "    # Let's loop over all the examples!\n",
    "    for example_index, example in enumerate(examples):\n",
    "        # This is the index of the feature associated to the current example.\n",
    "        feature_index = feature_per_example[example_index]\n",
    "        predictions[example[\"id\"]] = decoded_preds[feature_index]\n",
    "\n",
    "    # Format the result to the format the metric expects.\n",
    "    if data_args.version_2_with_negative:\n",
    "        formatted_predictions = [\n",
    "            {\"id\": k, \"prediction_text\": v, \"no_answer_probability\": 0.0} for k, v in predictions.items()\n",
    "        ]\n",
    "    else:\n",
    "        formatted_predictions = [{\"id\": k, \"prediction_text\": v} for k, v in predictions.items()]\n",
    "\n",
    "    references = [{\"id\": ex[\"id\"], \"answers\": ex[answer_column]} for ex in examples]\n",
    "    return EvalPrediction(predictions=formatted_predictions, label_ids=references)\n",
    "\n",
    "# adjust training arguments\n",
    "training_args = adjust_training_args(training_args, data_args, additional_args)\n",
    "\n",
    "# Initialize our Trainer\n",
    "trainer_cls = QATrainer\n",
    "trainer = trainer_cls(\n",
    "    model=model,\n",
    "    args=training_args,\n",
    "    train_dataset=train_dataset if training_args.do_train else None,\n",
    "    eval_dataset=eval_dataset if training_args.do_eval else None,\n",
    "    eval_examples=eval_examples if training_args.do_eval else None,\n",
    "    tokenizer=tokenizer,\n",
    "    data_collator=data_collator,\n",
    "    compute_metrics=compute_metrics, # if training_args.predict_with_generate else None,\n",
    "    post_process_function=post_processing_function if \"squad\" in data_args.dataset_name else None,\n",
    ")\n",
    "\n",
    "# Evaluation\n",
    "results = {}\n",
    "max_length = (\n",
    "    training_args.generation_max_length\n",
    "    if training_args.generation_max_length is not None\n",
    "    else data_args.val_max_answer_length\n",
    ")\n",
    "num_beams = data_args.num_beams if data_args.num_beams is not None else training_args.generation_num_beams\n",
    "\n",
    "# if training_args.do_eval:\n",
    "#     logger.info(\"*** Evaluate ***\")\n",
    "#     metrics = trainer.evaluate(max_length=max_length, num_beams=num_beams, metric_key_prefix=\"eval\")\n",
    "\n",
    "#     max_eval_samples = data_args.max_eval_samples if data_args.max_eval_samples is not None else len(eval_dataset)\n",
    "#     metrics[\"eval_samples\"] = min(max_eval_samples, len(eval_dataset))\n",
    "\n"
   ]
  },
  {
   "cell_type": "code",
   "execution_count": null,
   "metadata": {},
   "outputs": [],
   "source": [
    "# For each hidden state, compute similarity with other hidden states\n",
    "# Compute mean similarity for all hidden states for this token\n",
    "# Find the token with the highest similarity"
   ]
  },
  {
   "cell_type": "code",
   "execution_count": 4,
   "metadata": {},
   "outputs": [],
   "source": [
    "from sequence_types.sequence_types import get_first_similar_state, compute_hidden_state_similarities"
   ]
  },
  {
   "cell_type": "code",
   "execution_count": 5,
   "metadata": {},
   "outputs": [
    {
     "name": "stderr",
     "output_type": "stream",
     "text": [
      "0it [00:00, ?it/s]You're using a T5TokenizerFast tokenizer. Please note that with a fast tokenizer, using the `__call__` method is faster than using a method to encode the text followed by a call to the `pad` method to get a padded encoding.\n",
      "3it [00:04,  1.50s/it]\n"
     ]
    }
   ],
   "source": [
    "results = compute_hidden_state_similarities(\n",
    "    eval_dataset, trainer, tokenizer, max_examples=3, max_sequence_length=30\n",
    ")"
   ]
  },
  {
   "cell_type": "code",
   "execution_count": null,
   "metadata": {},
   "outputs": [],
   "source": []
  },
  {
   "cell_type": "code",
   "execution_count": null,
   "metadata": {},
   "outputs": [],
   "source": [
    "# Split into 3 buckets: first similar state is the first, the last or in the middle\n",
    "# Split 24/3 = 8 (every 8 layers)"
   ]
  },
  {
   "cell_type": "code",
   "execution_count": 16,
   "metadata": {},
   "outputs": [],
   "source": [
    "# Check strict monotonicity\n",
    "# torch.diff(hidden_satate_similaritites[0], prepend=torch.tensor([0])).count_nonzero()"
   ]
  },
  {
   "cell_type": "code",
   "execution_count": null,
   "metadata": {},
   "outputs": [],
   "source": []
  },
  {
   "cell_type": "code",
   "execution_count": 38,
   "metadata": {},
   "outputs": [],
   "source": [
    "max_means = [results[i][\"mean_similarity\"].max().item() for i in results]\n",
    "min_means = [results[i][\"mean_similarity\"].min().item() for i in results]\n",
    "\n",
    "easy_token_examples = torch.argsort(torch.tensor(max_means), descending=True)\n",
    "hard_token_examples = torch.argsort(torch.tensor(min_means))"
   ]
  },
  {
   "cell_type": "code",
   "execution_count": 39,
   "metadata": {},
   "outputs": [
    {
     "data": {
      "text/plain": [
       "(tensor([396,   8,   5, 403,  29, 389, 458, 444, 406, 397]),\n",
       " tensor([289, 251, 134, 150, 140, 441, 305, 310, 432, 317]))"
      ]
     },
     "execution_count": 39,
     "metadata": {},
     "output_type": "execute_result"
    }
   ],
   "source": [
    "easy_token_examples[:10], hard_token_examples[:10]"
   ]
  },
  {
   "cell_type": "code",
   "execution_count": 43,
   "metadata": {},
   "outputs": [
    {
     "data": {
      "text/plain": [
       "{'hidden_satate_similaritites': tensor([[0.6826, 0.6829, 0.7265, 0.7818, 0.8085, 0.8210, 0.8360, 0.8397, 0.8459,\n",
       "          0.8465, 0.8615, 0.8599, 0.8498, 0.8647, 0.8648, 0.8710, 0.8962, 0.9421,\n",
       "          0.9582, 0.9761, 0.9832, 0.9919, 0.9969],\n",
       "         [0.6571, 0.6841, 0.6471, 0.6311, 0.6200, 0.6537, 0.6741, 0.6798, 0.7118,\n",
       "          0.7391, 0.7787, 0.7616, 0.7491, 0.7891, 0.8113, 0.8446, 0.8718, 0.9061,\n",
       "          0.9328, 0.9608, 0.9727, 0.9871, 0.9966],\n",
       "         [0.8022, 0.7389, 0.7195, 0.7220, 0.7470, 0.7570, 0.7711, 0.7716, 0.7823,\n",
       "          0.7893, 0.8184, 0.8288, 0.8240, 0.8536, 0.8730, 0.8931, 0.9097, 0.9321,\n",
       "          0.9405, 0.9618, 0.9715, 0.9851, 0.9955]]),\n",
       " 'generated_ids': [689, 1549, 49],\n",
       " 'generated_answer': 'linebacker',\n",
       " 'n_similar_states': tensor([6, 6, 7]),\n",
       " 'mean_similarity': tensor([0.8603, 0.7852, 0.8430]),\n",
       " 'first_similar_state': tensor([[17],\n",
       "         [17],\n",
       "         [16]]),\n",
       " 'actual_answer': 'linebacker'}"
      ]
     },
     "execution_count": 43,
     "metadata": {},
     "output_type": "execute_result"
    }
   ],
   "source": [
    "results[403]"
   ]
  },
  {
   "cell_type": "code",
   "execution_count": 48,
   "metadata": {},
   "outputs": [
    {
     "data": {
      "text/plain": [
       "'October'"
      ]
     },
     "execution_count": 48,
     "metadata": {},
     "output_type": "execute_result"
    }
   ],
   "source": [
    "tokenizer.decode(1797)"
   ]
  },
  {
   "cell_type": "code",
   "execution_count": null,
   "metadata": {},
   "outputs": [],
   "source": []
  },
  {
   "cell_type": "code",
   "execution_count": 47,
   "metadata": {},
   "outputs": [
    {
     "data": {
      "text/plain": [
       "{'hidden_satate_similaritites': tensor([[0.6395, 0.6668, 0.7539, 0.7756, 0.8112, 0.8402, 0.8506, 0.8560, 0.8560,\n",
       "          0.8565, 0.8601, 0.8682, 0.8710, 0.8752, 0.8818, 0.8866, 0.8939, 0.9325,\n",
       "          0.9534, 0.9739, 0.9830, 0.9908, 0.9967],\n",
       "         [0.5823, 0.5702, 0.5948, 0.5652, 0.5837, 0.6246, 0.6714, 0.6920, 0.6727,\n",
       "          0.6876, 0.7275, 0.7556, 0.7716, 0.7931, 0.7882, 0.8133, 0.8178, 0.8826,\n",
       "          0.9339, 0.9538, 0.9657, 0.9808, 0.9927],\n",
       "         [0.7152, 0.6590, 0.6561, 0.6659, 0.7020, 0.7419, 0.7408, 0.7687, 0.7563,\n",
       "          0.7591, 0.8019, 0.8112, 0.8089, 0.8171, 0.8136, 0.8256, 0.8515, 0.9053,\n",
       "          0.9443, 0.9657, 0.9774, 0.9876, 0.9947]]),\n",
       " 'generated_ids': [1797, 11940, 1673],\n",
       " 'generated_answer': 'October 16, 2012',\n",
       " 'n_similar_states': tensor([6, 5, 6]),\n",
       " 'mean_similarity': tensor([0.8641, 0.7574, 0.8117]),\n",
       " 'first_similar_state': tensor([[17],\n",
       "         [18],\n",
       "         [17]]),\n",
       " 'actual_answer': 'October 16, 2012'}"
      ]
     },
     "execution_count": 47,
     "metadata": {},
     "output_type": "execute_result"
    }
   ],
   "source": [
    "results[134]"
   ]
  },
  {
   "cell_type": "code",
   "execution_count": null,
   "metadata": {},
   "outputs": [],
   "source": []
  },
  {
   "cell_type": "code",
   "execution_count": null,
   "metadata": {},
   "outputs": [],
   "source": []
  },
  {
   "cell_type": "code",
   "execution_count": null,
   "metadata": {},
   "outputs": [],
   "source": []
  },
  {
   "cell_type": "code",
   "execution_count": null,
   "metadata": {},
   "outputs": [],
   "source": []
  },
  {
   "cell_type": "code",
   "execution_count": 41,
   "metadata": {},
   "outputs": [
    {
     "data": {
      "text/plain": [
       "8"
      ]
     },
     "execution_count": 41,
     "metadata": {},
     "output_type": "execute_result"
    }
   ],
   "source": [
    "8"
   ]
  },
  {
   "cell_type": "code",
   "execution_count": 367,
   "metadata": {},
   "outputs": [
    {
     "data": {
      "text/plain": [
       "<matplotlib.legend.Legend at 0x33e4f2dd0>"
      ]
     },
     "execution_count": 367,
     "metadata": {},
     "output_type": "execute_result"
    },
    {
     "data": {
      "image/png": "[encoded data removed]",
      "text/plain": [
       "<Figure size 1500x500 with 1 Axes>"
      ]
     },
     "metadata": {},
     "output_type": "display_data"
    }
   ],
   "source": [
    "import matplotlib.pyplot as plt\n",
    "\n",
    "plt.figure(figsize=(15, 5))\n",
    "\n",
    "plt.plot(results[102]['hidden_satate_similaritites'][2], label=f\"Easy token\")\n",
    "plt.plot(results[134]['hidden_satate_similaritites'][1], label=f\"Hard token\")\n",
    "plt.axhline(0.9, color='r', linestyle='--', alpha=0.4)\n",
    "plt.legend()"
   ]
  },
  {
   "cell_type": "code",
   "execution_count": 363,
   "metadata": {},
   "outputs": [
    {
     "data": {
      "text/plain": [
       "<matplotlib.legend.Legend at 0x33e437e80>"
      ]
     },
     "execution_count": 363,
     "metadata": {},
     "output_type": "execute_result"
    },
    {
     "data": {
      "image/png": "[encoded data removed]",
      "text/plain": [
       "<Figure size 1500x500 with 1 Axes>"
      ]
     },
     "metadata": {},
     "output_type": "display_data"
    }
   ],
   "source": [
    "import matplotlib.pyplot as plt\n",
    "\n",
    "plt.figure(figsize=(15, 5))\n",
    "for i, v in enumerate(results[102]['hidden_satate_similaritites']):\n",
    "    plt.plot(v, label=f\"Token {i}\")\n",
    "plt.axhline(0.9, color='r', linestyle='--', alpha=0.4)\n",
    "plt.legend()"
   ]
  },
  {
   "cell_type": "code",
   "execution_count": null,
   "metadata": {},
   "outputs": [],
   "source": []
  },
  {
   "cell_type": "code",
   "execution_count": null,
   "metadata": {},
   "outputs": [],
   "source": []
  },
  {
   "cell_type": "code",
   "execution_count": null,
   "metadata": {},
   "outputs": [],
   "source": []
  },
  {
   "cell_type": "code",
   "execution_count": null,
   "metadata": {},
   "outputs": [],
   "source": []
  },
  {
   "cell_type": "code",
   "execution_count": null,
   "metadata": {},
   "outputs": [],
   "source": []
  },
  {
   "cell_type": "code",
   "execution_count": null,
   "metadata": {},
   "outputs": [],
   "source": []
  },
  {
   "cell_type": "code",
   "execution_count": null,
   "metadata": {},
   "outputs": [],
   "source": []
  },
  {
   "cell_type": "code",
   "execution_count": null,
   "metadata": {},
   "outputs": [],
   "source": []
  }
 ],
 "metadata": {
  "kernelspec": {
   "display_name": "dl2",
   "language": "python",
   "name": "python3"
  },
  "language_info": {
   "codemirror_mode": {
    "name": "ipython",
    "version": 3
   },
   "file_extension": ".py",
   "mimetype": "text/x-python",
   "name": "python",
   "nbconvert_exporter": "python",
   "pygments_lexer": "ipython3",
   "version": "3.10.14"
  }
 },
 "nbformat": 4,
 "nbformat_minor": 2
}
